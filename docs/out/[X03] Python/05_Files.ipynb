{
 "cells": [
  {
   "cell_type": "markdown",
   "metadata": {},
   "source": [
    "# Files"
   ]
  },
  {
   "cell_type": "markdown",
   "metadata": {},
   "source": [
    "<link rel=\"stylesheet\" href=\"../stylesheet.css\">\n",
    "\n",
    "<span class=\"subtitle\">IO (Input/Output)</span>"
   ]
  },
  {
   "cell_type": "markdown",
   "metadata": {},
   "source": [
    "<link rel=\"stylesheet\" href=\"../stylesheet.css\">\n",
    "\n",
    "<p><span class=\"method\">open():</span> <i>Open a file and returns a file object.</i></p>\n",
    "<p><span class=\"param\">Params:</span></p>\n",
    "\n",
    "- **`file` :** *The name of the file or a path to the file.*\n",
    "- **`mode` :** *(optional) The mode in which the file is opened* - `default = 'rt'`.\n",
    "    - **`'r'` :** *(read) Opens a file for reading, error if the file does not exist;*\n",
    "    - **`'w'` :** *(write) Opens a file for writing, creates the file if it does not exist, will overwrite any existing content;*\n",
    "    - **`'a'` :** *(append) Opens a file for appending, creates the file if it does not exist;*\n",
    "    - **`'x'` :** *(create) Creates the specified file, returns an error if the file exists;*\n",
    "    - **`'t'` :** *(text) Text mode;*\n",
    "    - **`'b'` :** *(binary) Binary mode (e.g. images).*"
   ]
  },
  {
   "cell_type": "code",
   "execution_count": 1,
   "metadata": {},
   "outputs": [
    {
     "name": "stdout",
     "output_type": "stream",
     "text": [
      "Lorem ipsum dolor sit amet, consectetur adipiscing elit.\n",
      "Sed do eiusmod tempor incididunt ut labore et dolore magna aliqua.\n",
      "Ut enim ad minim veniam, quis nostrud exercitation ullamco laboris \n",
      "nisi ut aliquip ex ea commodo consequat.\n"
     ]
    }
   ],
   "source": [
    "file_path = '../../temp/lorem.txt'              # Path to lorem.txt\n",
    "file_in = open(file_path, 'rt')                 # File object created with the function open()\n",
    "builder = []                                    # List that is the host for lorem.txt data\n",
    "\n",
    "for buffer in file_in:\n",
    "    builder.append(buffer)\n",
    "\n",
    "file_in.close()\n",
    "print(''.join(builder))"
   ]
  },
  {
   "cell_type": "markdown",
   "metadata": {},
   "source": [
    "<link rel=\"stylesheet\" href=\"../stylesheet.css\"/>\n",
    "\n",
    "<p><span class=\"method\">read():</span> <i>Method of file objects that is used to read a specified number of bytes from a file.</i></p>\n",
    "<p class=\"param\">Params:</p>\n",
    "\n",
    "- **`size` :** *(optional) Parameter specifying the number of bytes to read from the file. If `size` is negative or omitted, the entire content of the file is read.*"
   ]
  },
  {
   "cell_type": "code",
   "execution_count": null,
   "metadata": {},
   "outputs": [],
   "source": [
    "temp = '../../temp/'\n",
    "file_in = open(temp + 'lorem.txt', 'rt')\n",
    "builder = []\n",
    "\n",
    "while (line := file_in.read(50)) != '':\n",
    "    builder.append(line)\n",
    "\n",
    "file_in.close()\n",
    "print(''.join(builder))"
   ]
  },
  {
   "cell_type": "markdown",
   "metadata": {},
   "source": [
    "<link rel=\"stylesheet\" href=\"../stylesheet.css\">\n",
    "\n",
    "<p><span class=\"method\">write():</span> <i>Method of file objects used to write a string or a sequence of bytes to a file. </i></p>"
   ]
  },
  {
   "cell_type": "code",
   "execution_count": null,
   "metadata": {},
   "outputs": [],
   "source": [
    "temp = '../../temp/'\n",
    "file_out = open(temp + 'data001', 'a')\n",
    "file_out.write('Some text...\\n')\n",
    "file_out.close()"
   ]
  },
  {
   "cell_type": "markdown",
   "metadata": {},
   "source": [
    "<link rel=\"stylesheet\" href=\"../stylesheet.css\"/>\n",
    "\n",
    "<p><span class=\"method\">readline():</span> <i>Reads a line from an input stream.</i></p>"
   ]
  },
  {
   "cell_type": "markdown",
   "metadata": {},
   "source": [
    "<link rel=\"stylesheet\" href=\"../stylesheet.css\"/>\n",
    "\n",
    "<p><span class=\"method\">tell():</span> <i>Returns an integer giving the file object’s current position in the file represented as number of bytes from the beginning of the file when in binary mode and an opaque number when in text mode.</i></p>"
   ]
  },
  {
   "cell_type": "markdown",
   "metadata": {},
   "source": [
    "<link rel=\"stylesheet\" href=\"../stylesheet.css\"/>\n",
    "\n",
    "<p><span class=\"method\">seek(offset, whence):</span> <i>Changes the file object’s position. The position is computed from adding offset to a reference point.</i></p>\n",
    "<p class=\"param\">Params:</p>\n",
    "\n",
    "- **`offset` :** *Offset to a reference point.*\n",
    "- **`whence` :** *(optional) Reference point.* - `default = 0`.\n",
    "    - **`whence = 0` :** *uses the beginning of the file;*\n",
    "    - **`whence = 1` :** *uses the current file position;*\n",
    "    - **`whence = 2` :** *uses the end of the file.*"
   ]
  },
  {
   "cell_type": "code",
   "execution_count": null,
   "metadata": {},
   "outputs": [],
   "source": [
    "data_path = \"../../temp/data06_001.dat\"\n",
    "builder = []\n",
    "\n",
    "with open(data_path, 'rb+') as f:\n",
    "    f.seek(-3, 2)\n",
    "    builder.append(f.read(3).decode('utf-8'))\n",
    "\n",
    "print(''.join(builder))"
   ]
  },
  {
   "cell_type": "markdown",
   "metadata": {},
   "source": [
    "<link rel=\"stylesheet\" href=\"../stylesheet.css\">\n",
    "\n",
    "<p class=\"module\">json</p>"
   ]
  },
  {
   "cell_type": "code",
   "execution_count": 47,
   "metadata": {},
   "outputs": [
    {
     "name": "stdout",
     "output_type": "stream",
     "text": [
      "{'name': 'Bart', 'age': 26}\n"
     ]
    }
   ],
   "source": [
    "import json\n",
    "\n",
    "data_path = '../../temp/data06_002.dat'\n",
    "x = {\n",
    "    'name': \"Bart\",\n",
    "    'age' : 26 \n",
    "}\n",
    "\n",
    "with open(data_path, 'w+') as f:\n",
    "    json.dump(x, f)\n",
    "\n",
    "with open(data_path, 'r+') as f:\n",
    "    y = json.load(f)\n",
    "\n",
    "print(y)"
   ]
  }
 ],
 "metadata": {
  "kernelspec": {
   "display_name": "base",
   "language": "python",
   "name": "python3"
  },
  "language_info": {
   "codemirror_mode": {
    "name": "ipython",
    "version": 3
   },
   "file_extension": ".py",
   "mimetype": "text/x-python",
   "name": "python",
   "nbconvert_exporter": "python",
   "pygments_lexer": "ipython3",
   "version": "3.11.5"
  }
 },
 "nbformat": 4,
 "nbformat_minor": 2
}
