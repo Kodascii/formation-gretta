{
 "cells": [
  {
   "cell_type": "markdown",
   "metadata": {},
   "source": [
    "# Collections"
   ]
  },
  {
   "cell_type": "markdown",
   "metadata": {},
   "source": [
    "## Lists"
   ]
  },
  {
   "cell_type": "code",
   "execution_count": 1,
   "metadata": {},
   "outputs": [
    {
     "name": "stdout",
     "output_type": "stream",
     "text": [
      "[0, 5, 10, 15, 20, 25, 30, 35, 40, 45, 50, 55, 60, 65, 70, 75, 80, 85, 90, 95]\n"
     ]
    }
   ],
   "source": [
    "l = list(range(0, 100, 5))\n",
    "print(l)"
   ]
  },
  {
   "cell_type": "markdown",
   "metadata": {},
   "source": [
    "## Tuples"
   ]
  },
  {
   "cell_type": "code",
   "execution_count": 2,
   "metadata": {},
   "outputs": [
    {
     "name": "stdout",
     "output_type": "stream",
     "text": [
      "1 2 3\n"
     ]
    }
   ],
   "source": [
    "t = (1, 2, 3)\n",
    "a, b, c = t\n",
    "print(a, b, c)"
   ]
  },
  {
   "cell_type": "markdown",
   "metadata": {},
   "source": [
    "# Dictionaries"
   ]
  },
  {
   "cell_type": "code",
   "execution_count": 5,
   "metadata": {},
   "outputs": [
    {
     "name": "stdout",
     "output_type": "stream",
     "text": [
      "{key:'name', value:'Kodascii'}\n",
      "{key:'age', value:'26'}\n",
      "{key:'hobbies', value:'[{'activity': 'Programming', 'like': 9}, {'activity': 'Maths', 'like': 9.2}]'}\n"
     ]
    }
   ],
   "source": [
    "dic = {\n",
    "    \"name\": \"Kodascii\",\n",
    "    \"age\": 26,\n",
    "    \"hobbies\": [\n",
    "        {\n",
    "            \"activity\": \"Programming\",\n",
    "            \"like\": 9\n",
    "        },\n",
    "        {\n",
    "            \"activity\": \"Maths\",\n",
    "            \"like\": 9.2\n",
    "        }\n",
    "    ]\n",
    "}\n",
    "\n",
    "for k, v in dic.items():\n",
    "    print(f\"{{key:\\'{k}\\', value:\\'{v}\\'}}\")"
   ]
  }
 ],
 "metadata": {
  "kernelspec": {
   "display_name": "base",
   "language": "python",
   "name": "python3"
  },
  "language_info": {
   "codemirror_mode": {
    "name": "ipython",
    "version": 3
   },
   "file_extension": ".py",
   "mimetype": "text/x-python",
   "name": "python",
   "nbconvert_exporter": "python",
   "pygments_lexer": "ipython3",
   "version": "3.11.5"
  }
 },
 "nbformat": 4,
 "nbformat_minor": 2
}
