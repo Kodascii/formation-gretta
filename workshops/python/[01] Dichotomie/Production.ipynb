{
 "cells": [
  {
   "cell_type": "markdown",
   "metadata": {},
   "source": [
    "# Workshop 01 - Python : Recherche par Dichotomie"
   ]
  },
  {
   "cell_type": "markdown",
   "metadata": {},
   "source": [
    "<p style=\"color:#2196F3; font-weight: 500; font-size:20px;\">STEP 1</p>\n",
    "\n",
    "- On définie la fonction `main` en tant que la fonction principale du programme.\n",
    "- L'instruction `if __name__ == \"__main__\": main()` déclenche l’exécution de la logique principale."
   ]
  },
  {
   "cell_type": "code",
   "execution_count": null,
   "metadata": {},
   "outputs": [],
   "source": [
    "def main():\n",
    "    print(\"Bienvenue dans le jeu de la dichotomie !\")\n",
    "\n",
    "if __name__ == \"__main__\":\n",
    "    main()"
   ]
  },
  {
   "cell_type": "markdown",
   "metadata": {},
   "source": [
    "<p style=\"color:#2196F3; font-weight: 500; font-size:20px;\">STEP 2</p>\n",
    "\n",
    "- On récupère le nom du joueur via la méthode `input(str)`."
   ]
  },
  {
   "cell_type": "code",
   "execution_count": null,
   "metadata": {},
   "outputs": [],
   "source": [
    "def main():\n",
    "    print(\"Bienvenue dans le jeu de la dichotomie !\")\n",
    "    userName = input(\"Nom du joueur: \") # Nom d'utilisateur\n",
    "\n",
    "if __name__ == \"__main__\":\n",
    "    main()"
   ]
  },
  {
   "cell_type": "markdown",
   "metadata": {},
   "source": [
    "<p style=\"color:#2196F3; font-weight: 500; font-size:20px;\">STEP 3</p>\n",
    "\n",
    "- **`minValue`/`maxValue` :** Nous avons besoin de stocker le nombre minimum et le maximum dans deux variables différentes car nous nous en servons, pour réduire l'intervalle de recherche durant la dichotomie.\n",
    "\n",
    "> **Note :** *La valeur de la variable* `maxValue` *est initialisé à* `101`. *Cela permet d'inclure le nombre* `100` *dans la portée de l'intervalle cherché.*"
   ]
  },
  {
   "cell_type": "code",
   "execution_count": null,
   "metadata": {},
   "outputs": [],
   "source": [
    "def main():\n",
    "    print(\"Bienvenue dans le jeu de la dichotomie !\")\n",
    "    userName = input(\"Nom du joueur: \")\n",
    "\n",
    "    minValue, maxValue = 0, 101\n",
    "\n",
    "if __name__ == \"__main__\":\n",
    "    main()"
   ]
  },
  {
   "cell_type": "markdown",
   "metadata": {},
   "source": [
    "<p style=\"color:#2196F3; font-weight: 500; font-size:20px;\">STEP 4</p>\n",
    "\n",
    "- **`found` :** Variable qui représente la valeur (dichotomique) trouvé (*initialement égale à `0`*).\n",
    "- **`reply` :** Décrit symboliquement (*par* `+`/`-`/`=`) si le nombre proposé est respectivement plus grand, plus petit ou égal au nombre cherché."
   ]
  },
  {
   "cell_type": "code",
   "execution_count": null,
   "metadata": {},
   "outputs": [],
   "source": [
    "def main():\n",
    "    print(\"Bienvenue dans le jeu de la dichotomie !\")\n",
    "    userName = input(\"Nom du joueur: \")\n",
    "\n",
    "    minValue, maxValue = 0, 101\n",
    "    found, reply = 0, None\n",
    "\n",
    "    while (reply != '='):\n",
    "        if (reply == '+'):\n",
    "            minValue = found\n",
    "        elif (reply == '-'):\n",
    "            maxValue = found\n",
    "\n",
    "        found = int((maxValue + minValue)/2)\n",
    "        reply = input(f'Le nombre est-il plus petit, plus grand, ou égal à {found}?')\n",
    "\n",
    "if __name__ == \"__main__\":\n",
    "    main()"
   ]
  },
  {
   "cell_type": "markdown",
   "metadata": {},
   "source": [
    "<p style=\"color:#2196F3; font-weight: 500; font-size:20px;\">STEP 5</p>\n",
    "\n",
    "- **`q_counter` :** Compte le nombre de questions posées."
   ]
  },
  {
   "cell_type": "code",
   "execution_count": 36,
   "metadata": {},
   "outputs": [
    {
     "name": "stdout",
     "output_type": "stream",
     "text": [
      "Bienvenue dans le jeu de la dichotomie !\n",
      "Le nombre cherché de Bart est 67.\n",
      "Le programme a posé 7 questions.\n"
     ]
    }
   ],
   "source": [
    "def main():\n",
    "    print(\"Bienvenue dans le jeu de la dichotomie !\")\n",
    "    userName = input(\"Nom du joueur: \")\n",
    "    \n",
    "    minValue, maxValue = 0, 101\n",
    "    found, reply = 0, None\n",
    "    q_counter = 0\n",
    "\n",
    "    while (reply != '='):\n",
    "        if (reply == '+'):\n",
    "            minValue = found\n",
    "        elif (reply == '-'):\n",
    "            maxValue = found\n",
    "\n",
    "        found = int((maxValue + minValue)/2)\n",
    "        reply = input(f'Le nombre est-il plus petit, plus grand, ou égal à {found}?')\n",
    "        q_counter += 1\n",
    "\n",
    "    print(f'Le nombre cherché de {userName} est {found}.')\n",
    "    print(f'Le programme a posé {q_counter} {\"question\" if q_counter == 1 else \"questions\"}.')\n",
    "\n",
    "if __name__ == \"__main__\":\n",
    "    main()"
   ]
  }
 ],
 "metadata": {
  "kernelspec": {
   "display_name": "base",
   "language": "python",
   "name": "python3"
  },
  "language_info": {
   "codemirror_mode": {
    "name": "ipython",
    "version": 3
   },
   "file_extension": ".py",
   "mimetype": "text/x-python",
   "name": "python",
   "nbconvert_exporter": "python",
   "pygments_lexer": "ipython3",
   "version": "3.11.5"
  }
 },
 "nbformat": 4,
 "nbformat_minor": 2
}
